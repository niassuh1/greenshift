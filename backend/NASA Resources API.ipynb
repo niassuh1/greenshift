{
 "cells": [
  {
   "cell_type": "code",
   "execution_count": null,
   "metadata": {},
   "outputs": [],
   "source": [
    "import requests\n",
    "\n",
    "# Parameters for the request\n",
    "params = {\n",
    "    'lat': '24.7136',  # Latitude of the farm location\n",
    "    'lon': '46.6753',  # Longitude of the farm location\n",
    "    'startDate': '2024-01-01',  # Start date for historical data\n",
    "    'endDate': '2024-02-01',  # End date for historical data\n",
    "    'api_key': 'YOUR_API_KEY'\n",
    "}\n",
    "\n",
    "# Make the API request\n",
    "response = requests.get('https://api.nasa.gov/smap/v1/soil-moisture', params=params)\n",
    "\n",
    "# Process the response\n",
    "if response.status_code == 200:\n",
    "    data = response.json()\n",
    "    print(data)\n",
    "else:\n",
    "    print(\"Failed to fetch data\")\n"
   ]
  },
  {
   "cell_type": "code",
   "execution_count": null,
   "metadata": {},
   "outputs": [],
   "source": [
    "import requests\n",
    "\n",
    "params = {\n",
    "    'location': '24.7136,46.6753',  # Coordinates of the farm\n",
    "    'startDate': '2024-01-01',\n",
    "    'endDate': '2024-02-01',\n",
    "    'api_key': 'YOUR_API_KEY'\n",
    "}\n",
    "\n",
    "response = requests.get('https://api.nasa.gov/planetary/precipitation', params=params)\n",
    "\n",
    "if response.status_code == 200:\n",
    "    data = response.json()\n",
    "    print(data)\n",
    "else:\n",
    "    print(\"Error:\", response.status_code)\n"
   ]
  },
  {
   "cell_type": "code",
   "execution_count": null,
   "metadata": {},
   "outputs": [],
   "source": []
  }
 ],
 "metadata": {
  "kernelspec": {
   "display_name": "Python 3",
   "language": "python",
   "name": "python3"
  },
  "language_info": {
   "codemirror_mode": {
    "name": "ipython",
    "version": 3
   },
   "file_extension": ".py",
   "mimetype": "text/x-python",
   "name": "python",
   "nbconvert_exporter": "python",
   "pygments_lexer": "ipython3",
   "version": "3.11.7"
  }
 },
 "nbformat": 4,
 "nbformat_minor": 2
}
